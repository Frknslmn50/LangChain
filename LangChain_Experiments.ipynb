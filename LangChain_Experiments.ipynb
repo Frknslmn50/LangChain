{
 "cells": [
  {
   "cell_type": "markdown",
   "metadata": {},
   "source": [
    "## Import Libraries and API Key"
   ]
  },
  {
   "cell_type": "code",
   "execution_count": 1,
   "metadata": {},
   "outputs": [],
   "source": [
    "import os\n",
    "from langchain.llms import OpenAI\n",
    "from langchain.chains import LLMChain, SequentialChain, ConversationChain\n",
    "from langchain.prompts import PromptTemplate\n",
    "from langchain.agents import AgentType, initialize_agent, load_tools\n",
    "from langchain.memory import ConversationBufferMemory, ConversationBufferWindowMemory\n",
    "from secret_key import openai_key\n",
    "\n",
    "os.environ['OPENAI_API_KEY'] = openai_key"
   ]
  },
  {
   "cell_type": "markdown",
   "metadata": {},
   "source": [
    "## Choose the model to use."
   ]
  },
  {
   "cell_type": "code",
   "execution_count": 2,
   "metadata": {},
   "outputs": [
    {
     "name": "stderr",
     "output_type": "stream",
     "text": [
      "c:\\Users\\Furkan Salman\\AppData\\Local\\Programs\\Python\\Python311\\Lib\\site-packages\\langchain_core\\_api\\deprecation.py:139: LangChainDeprecationWarning: The class `OpenAI` was deprecated in LangChain 0.0.10 and will be removed in 0.3.0. An updated version of the class exists in the langchain-openai package and should be used instead. To use it run `pip install -U langchain-openai` and import as `from langchain_openai import OpenAI`.\n",
      "  warn_deprecated(\n"
     ]
    }
   ],
   "source": [
    "# Initialize the LLM with the specific model\n",
    "llm = OpenAI(temperature=0.5)"
   ]
  },
  {
   "cell_type": "markdown",
   "metadata": {},
   "source": [
    "## Define the prompt template."
   ]
  },
  {
   "cell_type": "code",
   "execution_count": 3,
   "metadata": {},
   "outputs": [],
   "source": [
    "# Define the prompt template\n",
    "poem_start_prompt = PromptTemplate(\n",
    "    input_variables=[\"word\"],\n",
    "    template=\"Write a poem that describes the word '{word}' in a simple way, to teach a child. Write only one stanza.\",\n",
    "\n",
    ")\n",
    "\n",
    "# Define the prompt template for adding a stanza to the poem\n",
    "poem_complete_prompt = PromptTemplate(\n",
    "    input_variables=[\"poem_start\"],\n",
    "    template=\"Complete the poem, that starts as :\\n{poem_start}\"\n",
    ")"
   ]
  },
  {
   "cell_type": "markdown",
   "metadata": {},
   "source": [
    "## Build the chain."
   ]
  },
  {
   "cell_type": "code",
   "execution_count": 4,
   "metadata": {},
   "outputs": [
    {
     "name": "stderr",
     "output_type": "stream",
     "text": [
      "c:\\Users\\Furkan Salman\\AppData\\Local\\Programs\\Python\\Python311\\Lib\\site-packages\\langchain_core\\_api\\deprecation.py:139: LangChainDeprecationWarning: The class `LLMChain` was deprecated in LangChain 0.1.17 and will be removed in 1.0. Use RunnableSequence, e.g., `prompt | llm` instead.\n",
      "  warn_deprecated(\n",
      "c:\\Users\\Furkan Salman\\AppData\\Local\\Programs\\Python\\Python311\\Lib\\site-packages\\langchain_core\\_api\\deprecation.py:139: LangChainDeprecationWarning: The method `Chain.__call__` was deprecated in langchain 0.1.0 and will be removed in 0.3.0. Use invoke instead.\n",
      "  warn_deprecated(\n"
     ]
    },
    {
     "name": "stdout",
     "output_type": "stream",
     "text": [
      "\n",
      "\n",
      "\u001b[1m> Entering new SequentialChain chain...\u001b[0m\n",
      "\n",
      "\u001b[1m> Finished chain.\u001b[0m\n",
      "{'word': 'dog', 'poem': \" \\n\\nThey greet us with excitement and joy,\\nTheir love and loyalty we can't destroy,\\nThey cuddle close when we're feeling down,\\nAnd chase away our every frown.\\n\\nTheir eyes are filled with pure devotion,\\nTheir hearts full of endless emotion,\\nThey're always there to lend an ear,\\nAnd wipe away every single tear.\\n\\nThrough the good times and the bad,\\nOur furry friends are all we've had,\\nThey're more than just a pet, you see,\\nThey're family, as loyal as can be.\\n\\nSo here's to our furry companions,\\nWho bring us love in endless fashions,\\nThey fill our lives with so much glee,\\nA dog's love is truly meant to be.\"}\n"
     ]
    }
   ],
   "source": [
    "# Build a chain by specifying the LLM and the prompt template\n",
    "poem_start_chain = LLMChain(llm=llm, prompt=poem_start_prompt, output_key=\"poem_start\")\n",
    "poem_complete_chain = LLMChain(llm=llm, prompt=poem_complete_prompt, output_key=\"poem\")\n",
    "\n",
    "# Build a sequential chain by specifying the chains\n",
    "chain = SequentialChain(\n",
    "    chains=[poem_start_chain, poem_complete_chain],\n",
    "    input_variables=[\"word\"],\n",
    "    output_variables=[\"poem\"],\n",
    "    verbose=True  # To see the intermediate steps\n",
    ")\n",
    "\n",
    "# Run the chain with a specific word\n",
    "response = chain({\"word\": \"dog\"})\n",
    "\n",
    "print(response)"
   ]
  },
  {
   "cell_type": "code",
   "execution_count": 5,
   "metadata": {},
   "outputs": [
    {
     "name": "stdout",
     "output_type": "stream",
     "text": [
      " \n",
      "\n",
      "They greet us with excitement and joy,\n",
      "Their love and loyalty we can't destroy,\n",
      "They cuddle close when we're feeling down,\n",
      "And chase away our every frown.\n",
      "\n",
      "Their eyes are filled with pure devotion,\n",
      "Their hearts full of endless emotion,\n",
      "They're always there to lend an ear,\n",
      "And wipe away every single tear.\n",
      "\n",
      "Through the good times and the bad,\n",
      "Our furry friends are all we've had,\n",
      "They're more than just a pet, you see,\n",
      "They're family, as loyal as can be.\n",
      "\n",
      "So here's to our furry companions,\n",
      "Who bring us love in endless fashions,\n",
      "They fill our lives with so much glee,\n",
      "A dog's love is truly meant to be.\n"
     ]
    }
   ],
   "source": [
    "print(response[\"poem\"])"
   ]
  },
  {
   "cell_type": "markdown",
   "metadata": {},
   "source": [
    "## Load Tools to Use"
   ]
  },
  {
   "cell_type": "code",
   "execution_count": 6,
   "metadata": {},
   "outputs": [
    {
     "name": "stdout",
     "output_type": "stream",
     "text": [
      "\n",
      "\n",
      "\u001b[1m> Entering new AgentExecutor chain...\u001b[0m\n"
     ]
    },
    {
     "name": "stderr",
     "output_type": "stream",
     "text": [
      "c:\\Users\\Furkan Salman\\AppData\\Local\\Programs\\Python\\Python311\\Lib\\site-packages\\langchain_core\\_api\\deprecation.py:139: LangChainDeprecationWarning: The function `initialize_agent` was deprecated in LangChain 0.1.0 and will be removed in 0.3.0. Use Use new agent constructor methods like create_react_agent, create_json_agent, create_structured_chat_agent, etc. instead.\n",
      "  warn_deprecated(\n",
      "c:\\Users\\Furkan Salman\\AppData\\Local\\Programs\\Python\\Python311\\Lib\\site-packages\\langchain_core\\_api\\deprecation.py:139: LangChainDeprecationWarning: The method `Chain.run` was deprecated in langchain 0.1.0 and will be removed in 0.3.0. Use invoke instead.\n",
      "  warn_deprecated(\n"
     ]
    },
    {
     "name": "stdout",
     "output_type": "stream",
     "text": [
      "\u001b[32;1m\u001b[1;3m We need to find the date of the first computer and then add 50 to it.\n",
      "Action: wikipedia\n",
      "Action Input: First computer\u001b[0m\n",
      "Observation: \u001b[36;1m\u001b[1;3mPage: History of computing hardware\n",
      "Summary: The history of computing hardware covers the developments from early simple devices to aid calculation to modern day computers.\n",
      "The first aids to computation were purely mechanical devices which required the operator to set up the initial values of an elementary arithmetic operation, then manipulate the device to obtain the result. Later, computers represented numbers in a continuous form (e.g. distance along a scale, rotation of a shaft, or a voltage). Numbers could also be represented in the form of digits, automatically manipulated by a mechanism. Although this approach generally required more complex mechanisms, it greatly increased the precision of results. The development of transistor technology and then the integrated circuit chip led to a series of breakthroughs, starting with transistor computers and then integrated circuit computers, causing digital computers to largely replace analog computers. Metal-oxide-semiconductor (MOS) large-scale integration (LSI) then enabled semiconductor memory and the microprocessor, leading to another key breakthrough, the miniaturized personal computer (PC), in the 1970s. The cost of computers gradually became so low that personal computers by the 1990s, and then mobile computers (smartphones and tablets) in the 2000s, became ubiquitous.\n",
      "\n",
      "\n",
      "\n",
      "Page: Computer\n",
      "Summary: A computer is a machine that can be programmed to automatically carry out sequences of arithmetic or logical operations (computation). Modern digital electronic computers can perform generic sets of operations known as programs. These programs enable computers to perform a wide range of tasks. The term computer system may refer to a nominally complete computer that includes the hardware, operating system, software, and peripheral equipment needed and used for full operation; or to a group of computers that are linked and function together, such as a computer network or computer cluster.\n",
      "A broad range of industrial and consumer products use computers as control systems, including simple special-purpose devices like microwave ovens and remote controls, and factory devices like industrial robots. Computers are at the core of general-purpose devices such as personal computers and mobile devices such as smartphones. Computers power the Internet, which links billions of computers and users.\n",
      "Early computers were meant to be used only for calculations. Simple manual instruments like the abacus have aided people in doing calculations since ancient times. Early in the Industrial Revolution, some mechanical devices were built to automate long, tedious tasks, such as guiding patterns for looms. More sophisticated electrical machines did specialized analog calculations in the early 20th century. The first digital electronic calculating machines were developed during World War II, both electromechanical and using thermionic valves. The first semiconductor transistors in the late 1940s were followed by the silicon-based MOSFET (MOS transistor) and monolithic integrated circuit chip technologies in the late 1950s, leading to the microprocessor and the microcomputer revolution in the 1970s. The speed, power, and versatility of computers have been increasing dramatically ever since then, with transistor counts increasing at a rapid pace (Moore's law noted that counts doubled every two years), leading to the Digital Revolution during the late 20th and early 21st centuries.\n",
      "Conventionally, a modern computer consists of at least one processing element, typically a central processing unit (CPU) in the form of a microprocessor, together with some type of computer memory, typically semiconductor memory chips. The processing element carries out arithmetic and logical operations, and a sequencing and control unit can change the order of operations in response to stored information. Peripheral devices include input devices (keyboards, mice, joystick, etc.), output devices (monitor screens, printers, etc.), \u001b[0m\n",
      "Thought:\u001b[32;1m\u001b[1;3m We now have a good understanding of the history of computers and their development.\n",
      "Action: Calculator\n",
      "Action Input: 1940 + 50\u001b[0m\n",
      "Observation: \u001b[33;1m\u001b[1;3mAnswer: 1990\u001b[0m\n",
      "Thought:\u001b[32;1m\u001b[1;3m I now know the final answer.\n",
      "Final Answer: 1990\u001b[0m\n",
      "\n",
      "\u001b[1m> Finished chain.\u001b[0m\n"
     ]
    },
    {
     "data": {
      "text/plain": [
       "'1990'"
      ]
     },
     "execution_count": 6,
     "metadata": {},
     "output_type": "execute_result"
    }
   ],
   "source": [
    "tools = load_tools([\"wikipedia\", \"llm-math\"], llm=llm)\n",
    "\n",
    "# Initialize the agent\n",
    "# The agent type is ZERO_SHOT_REACT_DESCRIPTION, this means that the agent will deside to use any tool to generate the output if needed.\n",
    "agent = initialize_agent(\n",
    "    agent_type=AgentType.ZERO_SHOT_REACT_DESCRIPTION,\n",
    "    llm=llm,\n",
    "    tools=tools,\n",
    "    verbose=True # To see the intermediate steps\n",
    ")\n",
    "\n",
    "agent.run(\"When was the first computer invented? Add 50 to the answer.\")"
   ]
  },
  {
   "cell_type": "markdown",
   "metadata": {},
   "source": [
    "## Define Memory"
   ]
  },
  {
   "cell_type": "markdown",
   "metadata": {},
   "source": [
    "Chains do not have memory by default."
   ]
  },
  {
   "cell_type": "code",
   "execution_count": 7,
   "metadata": {},
   "outputs": [
    {
     "data": {
      "text/plain": [
       "NoneType"
      ]
     },
     "execution_count": 7,
     "metadata": {},
     "output_type": "execute_result"
    }
   ],
   "source": [
    "type(chain.memory)"
   ]
  },
  {
   "cell_type": "code",
   "execution_count": 8,
   "metadata": {},
   "outputs": [
    {
     "name": "stdout",
     "output_type": "stream",
     "text": [
      "\n",
      "\n",
      "\u001b[1m> Entering new SequentialChain chain...\u001b[0m\n",
      "\n",
      "\u001b[1m> Finished chain.\u001b[0m\n",
      "{'word': 'dog', 'history': '', 'poem': \"\\n\\nHe'll chase his tail with endless glee,\\nAnd fetch a stick with boundless speed.\\nHe'll cuddle up and let you be,\\nThe one he loves, the one he needs.\\n\\nA dog is more than just a pet,\\nHe's a companion, a faithful mate.\\nHe'll never judge, he'll never fret,\\nJust happy to be by your side, it's fate.\\n\\nHe'll bark at strangers, protect your home,\\nBut snuggle close when you're feeling low.\\nHe'll never leave you feeling alone,\\nHis love for you will always show.\\n\\nA dog is a furry friend indeed,\\nWith a heart of gold and eyes that shine.\\nHe'll be there for you in times of need,\\nThis loyal companion, this friend of mine.\"}\n"
     ]
    }
   ],
   "source": [
    "# Create a memory object\n",
    "memory = ConversationBufferMemory()\n",
    "\n",
    "# Add the memory to the chain\n",
    "chain = SequentialChain(\n",
    "    chains=[poem_start_chain, poem_complete_chain],\n",
    "    input_variables=[\"word\"],\n",
    "    output_variables=[\"poem\"],\n",
    "    verbose=True,\n",
    "    memory=memory\n",
    ")\n",
    "\n",
    "poem = chain({\"word\": \"dog\"})\n",
    "\n",
    "print(poem)"
   ]
  },
  {
   "cell_type": "markdown",
   "metadata": {},
   "source": [
    "We now have a memory that keeps track of the prompt-response pairs."
   ]
  },
  {
   "cell_type": "code",
   "execution_count": 9,
   "metadata": {},
   "outputs": [
    {
     "name": "stdout",
     "output_type": "stream",
     "text": [
      "Human: dog\n",
      "AI: \n",
      "\n",
      "He'll chase his tail with endless glee,\n",
      "And fetch a stick with boundless speed.\n",
      "He'll cuddle up and let you be,\n",
      "The one he loves, the one he needs.\n",
      "\n",
      "A dog is more than just a pet,\n",
      "He's a companion, a faithful mate.\n",
      "He'll never judge, he'll never fret,\n",
      "Just happy to be by your side, it's fate.\n",
      "\n",
      "He'll bark at strangers, protect your home,\n",
      "But snuggle close when you're feeling low.\n",
      "He'll never leave you feeling alone,\n",
      "His love for you will always show.\n",
      "\n",
      "A dog is a furry friend indeed,\n",
      "With a heart of gold and eyes that shine.\n",
      "He'll be there for you in times of need,\n",
      "This loyal companion, this friend of mine.\n"
     ]
    }
   ],
   "source": [
    "print(chain.memory.buffer)"
   ]
  },
  {
   "cell_type": "code",
   "execution_count": 10,
   "metadata": {},
   "outputs": [
    {
     "name": "stdout",
     "output_type": "stream",
     "text": [
      "The following is a friendly conversation between a human and an AI. The AI is talkative and provides lots of specific details from its context. If the AI does not know the answer to a question, it truthfully says it does not know.\n",
      "\n",
      "Current conversation:\n",
      "{history}\n",
      "Human: {input}\n",
      "AI:\n"
     ]
    }
   ],
   "source": [
    "# Create a conversation chain without memory\n",
    "convo = ConversationChain(llm=OpenAI(temperature=0.7))\n",
    "print(convo.prompt.template)"
   ]
  },
  {
   "cell_type": "markdown",
   "metadata": {},
   "source": [
    "We are able to see the system prompt that includes the history that ConverSationChain keeps by default."
   ]
  },
  {
   "cell_type": "code",
   "execution_count": 11,
   "metadata": {},
   "outputs": [
    {
     "data": {
      "text/plain": [
       "' France won the 2018 FIFA World Cup. They defeated Croatia 4-2 in the final match, which was held in Moscow, Russia. This was their second World Cup victory, with their first win being in 1998. The French team was led by coach Didier Deschamps and star players such as Kylian Mbappé, Antoine Griezmann, and Paul Pogba. They had a strong performance throughout the tournament, winning six matches and drawing one.'"
      ]
     },
     "execution_count": 11,
     "metadata": {},
     "output_type": "execute_result"
    }
   ],
   "source": [
    "convo.run(\"Which country won the 2018 FIFA World Cup?\")"
   ]
  },
  {
   "cell_type": "code",
   "execution_count": 12,
   "metadata": {},
   "outputs": [
    {
     "data": {
      "text/plain": [
       "\" In the final match, France's goals were scored by Antoine Griezmann, Paul Pogba, and Kylian Mbappé. Griezmann scored a penalty kick in the 38th minute, while Pogba scored in the 59th minute and Mbappé in the 65th minute. Croatia's goals were scored by Ivan Perišić and Mario Mandžukić.\""
      ]
     },
     "execution_count": 12,
     "metadata": {},
     "output_type": "execute_result"
    }
   ],
   "source": [
    "convo.run(\"Who scored the goals in the final match?\")"
   ]
  },
  {
   "cell_type": "code",
   "execution_count": 13,
   "metadata": {},
   "outputs": [
    {
     "name": "stdout",
     "output_type": "stream",
     "text": [
      "Human: Which country won the 2018 FIFA World Cup?\n",
      "AI:  France won the 2018 FIFA World Cup. They defeated Croatia 4-2 in the final match, which was held in Moscow, Russia. This was their second World Cup victory, with their first win being in 1998. The French team was led by coach Didier Deschamps and star players such as Kylian Mbappé, Antoine Griezmann, and Paul Pogba. They had a strong performance throughout the tournament, winning six matches and drawing one.\n",
      "Human: Who scored the goals in the final match?\n",
      "AI:  In the final match, France's goals were scored by Antoine Griezmann, Paul Pogba, and Kylian Mbappé. Griezmann scored a penalty kick in the 38th minute, while Pogba scored in the 59th minute and Mbappé in the 65th minute. Croatia's goals were scored by Ivan Perišić and Mario Mandžukić.\n"
     ]
    }
   ],
   "source": [
    "print(convo.memory.buffer)"
   ]
  },
  {
   "cell_type": "markdown",
   "metadata": {},
   "source": [
    "Every single time we prompt the model, we will pass the memory to it.\\\n",
    "This might be costly therefore we need to limit the memory size or the number of prompt-response pairs to keep in memory.\\\n",
    "To keep the memory size limited we can use a windowed memory."
   ]
  },
  {
   "cell_type": "code",
   "execution_count": 14,
   "metadata": {},
   "outputs": [
    {
     "data": {
      "text/plain": [
       "\" France won the 2018 FIFA World Cup. They defeated Croatia 4-2 in the final match, which took place in Moscow, Russia on July 15, 2018. France's victory was their second World Cup title, with their first being in 1998. The tournament featured 32 teams and was held in 11 cities across Russia. Did you know that the World Cup is the most widely viewed sporting event in the world, with an estimated 3.4 billion people tuning in to watch the final?\""
      ]
     },
     "execution_count": 14,
     "metadata": {},
     "output_type": "execute_result"
    }
   ],
   "source": [
    "# k=1 means that the memory will store the last 1 conversation.\n",
    "memory = ConversationBufferWindowMemory(k=1)\n",
    "\n",
    "# Create a chain with the limited memory\n",
    "chain = ConversationChain(\n",
    "    llm=OpenAI(temperature=0.7),\n",
    "    memory=memory\n",
    ")\n",
    "\n",
    "chain.run(\"Which country won the 2018 FIFA World Cup?\")"
   ]
  },
  {
   "cell_type": "code",
   "execution_count": 15,
   "metadata": {},
   "outputs": [
    {
     "data": {
      "text/plain": [
       "' The answer to 1+1 is 2. This is a basic mathematical equation that represents adding one unit to another unit. The concept of addition is a fundamental mathematical operation that is used in various fields such as science, engineering, and economics. Did you know that the concept of addition dates back to ancient civilizations, such as the Egyptians and Babylonians? They used different methods, such as counting on fingers and using counting boards, to perform addition calculations.'"
      ]
     },
     "execution_count": 15,
     "metadata": {},
     "output_type": "execute_result"
    }
   ],
   "source": [
    "chain.run(\"What's 1+1?\")"
   ]
  },
  {
   "cell_type": "code",
   "execution_count": 16,
   "metadata": {},
   "outputs": [
    {
     "data": {
      "text/plain": [
       "' I do not have enough contextual information to accurately answer this question. Do you have any specific details about the final match, such as the teams playing, the date, or the location? With more information, I can provide a more accurate answer.'"
      ]
     },
     "execution_count": 16,
     "metadata": {},
     "output_type": "execute_result"
    }
   ],
   "source": [
    "chain.run(\"Who scored the goals in the final match?\")"
   ]
  },
  {
   "cell_type": "markdown",
   "metadata": {},
   "source": [
    "Since our memory is limited to the last one prompt-response pair, llm does not have the information about the previous prompt\\\n",
    "we have specified the football match therefore it's having trouble to generate a response."
   ]
  }
 ],
 "metadata": {
  "kernelspec": {
   "display_name": "Python 3",
   "language": "python",
   "name": "python3"
  },
  "language_info": {
   "codemirror_mode": {
    "name": "ipython",
    "version": 3
   },
   "file_extension": ".py",
   "mimetype": "text/x-python",
   "name": "python",
   "nbconvert_exporter": "python",
   "pygments_lexer": "ipython3",
   "version": "3.11.0"
  }
 },
 "nbformat": 4,
 "nbformat_minor": 2
}
