{
 "cells": [
  {
   "cell_type": "markdown",
   "metadata": {},
   "source": [
    "## Import Libraries and API Key"
   ]
  },
  {
   "cell_type": "code",
   "execution_count": 1,
   "metadata": {},
   "outputs": [],
   "source": [
    "import os\n",
    "from langchain.llms import OpenAI\n",
    "from langchain.chains import LLMChain, SequentialChain, ConversationChain\n",
    "from langchain.prompts import PromptTemplate\n",
    "from langchain.agents import AgentType, initialize_agent, load_tools\n",
    "from langchain.memory import ConversationBufferMemory, ConversationBufferWindowMemory\n",
    "from secret_key import openai_key\n",
    "\n",
    "os.environ['OPENAI_API_KEY'] = openai_key"
   ]
  },
  {
   "cell_type": "markdown",
   "metadata": {},
   "source": [
    "## Choose the model to use."
   ]
  },
  {
   "cell_type": "code",
   "execution_count": 2,
   "metadata": {},
   "outputs": [
    {
     "name": "stderr",
     "output_type": "stream",
     "text": [
      "c:\\Users\\Furkan Salman\\AppData\\Local\\Programs\\Python\\Python311\\Lib\\site-packages\\langchain_core\\_api\\deprecation.py:139: LangChainDeprecationWarning: The class `OpenAI` was deprecated in LangChain 0.0.10 and will be removed in 0.3.0. An updated version of the class exists in the langchain-openai package and should be used instead. To use it run `pip install -U langchain-openai` and import as `from langchain_openai import OpenAI`.\n",
      "  warn_deprecated(\n"
     ]
    }
   ],
   "source": [
    "# Initialize the LLM with the specific model\n",
    "llm = OpenAI(temperature=0.5)"
   ]
  },
  {
   "cell_type": "markdown",
   "metadata": {},
   "source": [
    "## Define the prompt template."
   ]
  },
  {
   "cell_type": "code",
   "execution_count": 3,
   "metadata": {},
   "outputs": [],
   "source": [
    "# Define the prompt template\n",
    "poem_start_prompt = PromptTemplate(\n",
    "    input_variables=[\"word\"],\n",
    "    template=\"Write a poem that describes the word '{word}' in a simple way, to teach a child. Write only one stanza.\",\n",
    "\n",
    ")\n",
    "\n",
    "# Define the prompt template for adding a stanza to the poem\n",
    "poem_complete_prompt = PromptTemplate(\n",
    "    input_variables=[\"poem_start\"],\n",
    "    template=\"Complete the poem, that starts as :\\n{poem_start}\"\n",
    ")"
   ]
  },
  {
   "cell_type": "markdown",
   "metadata": {},
   "source": [
    "## Build the chain."
   ]
  },
  {
   "cell_type": "code",
   "execution_count": 4,
   "metadata": {},
   "outputs": [
    {
     "name": "stderr",
     "output_type": "stream",
     "text": [
      "c:\\Users\\Furkan Salman\\AppData\\Local\\Programs\\Python\\Python311\\Lib\\site-packages\\langchain_core\\_api\\deprecation.py:139: LangChainDeprecationWarning: The class `LLMChain` was deprecated in LangChain 0.1.17 and will be removed in 1.0. Use RunnableSequence, e.g., `prompt | llm` instead.\n",
      "  warn_deprecated(\n",
      "c:\\Users\\Furkan Salman\\AppData\\Local\\Programs\\Python\\Python311\\Lib\\site-packages\\langchain_core\\_api\\deprecation.py:139: LangChainDeprecationWarning: The method `Chain.__call__` was deprecated in langchain 0.1.0 and will be removed in 0.3.0. Use invoke instead.\n",
      "  warn_deprecated(\n"
     ]
    },
    {
     "name": "stdout",
     "output_type": "stream",
     "text": [
      "\n",
      "\n",
      "\u001b[1m> Entering new SequentialChain chain...\u001b[0m\n",
      "\n",
      "\u001b[1m> Finished chain.\u001b[0m\n",
      "{'word': 'dog', 'poem': \"\\n\\nIt'll cuddle up when you're feeling down\\nAnd chase away any hint of a frown\\nA loyal companion, through thick and thin\\nA dog's love knows no end or begin\\n\\nWith eyes full of love, it'll look up at you\\nAnd its heart will always remain pure and true\\nA dog is more than just a pet\\nIt's a faithful friend, you'll never forget\\n\\nThrough laughter and tears, it'll stand by your side\\nAnd in its presence, all worries will subside\\nA dog's love is unconditional and pure\\nA bond that will forever endure\\n\\nSo let's cherish these furry friends we hold dear\\nFor their love and loyalty, we should always revere\\nA dog is a blessing, a gift from above\\nA true friend, forever and always, with love.\"}\n"
     ]
    }
   ],
   "source": [
    "# Build a chain by specifying the LLM and the prompt template\n",
    "poem_start_chain = LLMChain(llm=llm, prompt=poem_start_prompt, output_key=\"poem_start\")\n",
    "poem_complete_chain = LLMChain(llm=llm, prompt=poem_complete_prompt, output_key=\"poem\")\n",
    "\n",
    "# Build a sequential chain by specifying the chains\n",
    "chain = SequentialChain(\n",
    "    chains=[poem_start_chain, poem_complete_chain],\n",
    "    input_variables=[\"word\"],\n",
    "    output_variables=[\"poem\"],\n",
    "    verbose=True  # To see the intermediate steps\n",
    ")\n",
    "\n",
    "# Run the chain with a specific word\n",
    "response = chain({\"word\": \"dog\"})\n",
    "\n",
    "print(response)"
   ]
  },
  {
   "cell_type": "code",
   "execution_count": 5,
   "metadata": {},
   "outputs": [
    {
     "name": "stdout",
     "output_type": "stream",
     "text": [
      "\n",
      "\n",
      "It'll cuddle up when you're feeling down\n",
      "And chase away any hint of a frown\n",
      "A loyal companion, through thick and thin\n",
      "A dog's love knows no end or begin\n",
      "\n",
      "With eyes full of love, it'll look up at you\n",
      "And its heart will always remain pure and true\n",
      "A dog is more than just a pet\n",
      "It's a faithful friend, you'll never forget\n",
      "\n",
      "Through laughter and tears, it'll stand by your side\n",
      "And in its presence, all worries will subside\n",
      "A dog's love is unconditional and pure\n",
      "A bond that will forever endure\n",
      "\n",
      "So let's cherish these furry friends we hold dear\n",
      "For their love and loyalty, we should always revere\n",
      "A dog is a blessing, a gift from above\n",
      "A true friend, forever and always, with love.\n"
     ]
    }
   ],
   "source": [
    "print(response[\"poem\"])"
   ]
  },
  {
   "cell_type": "markdown",
   "metadata": {},
   "source": [
    "## Load Tools to Use"
   ]
  },
  {
   "cell_type": "code",
   "execution_count": 6,
   "metadata": {},
   "outputs": [
    {
     "name": "stdout",
     "output_type": "stream",
     "text": [
      "\n",
      "\n",
      "\u001b[1m> Entering new AgentExecutor chain...\u001b[0m\n"
     ]
    },
    {
     "name": "stderr",
     "output_type": "stream",
     "text": [
      "c:\\Users\\Furkan Salman\\AppData\\Local\\Programs\\Python\\Python311\\Lib\\site-packages\\langchain_core\\_api\\deprecation.py:139: LangChainDeprecationWarning: The function `initialize_agent` was deprecated in LangChain 0.1.0 and will be removed in 0.3.0. Use Use new agent constructor methods like create_react_agent, create_json_agent, create_structured_chat_agent, etc. instead.\n",
      "  warn_deprecated(\n",
      "c:\\Users\\Furkan Salman\\AppData\\Local\\Programs\\Python\\Python311\\Lib\\site-packages\\langchain_core\\_api\\deprecation.py:139: LangChainDeprecationWarning: The method `Chain.run` was deprecated in langchain 0.1.0 and will be removed in 0.3.0. Use invoke instead.\n",
      "  warn_deprecated(\n"
     ]
    },
    {
     "name": "stdout",
     "output_type": "stream",
     "text": [
      "\u001b[32;1m\u001b[1;3m We can use Wikipedia to find the answer to this question.\n",
      "Action: wikipedia\n",
      "Action Input: First computer\u001b[0m\n",
      "Observation: \u001b[36;1m\u001b[1;3mPage: History of computing hardware\n",
      "Summary: The history of computing hardware covers the developments from early simple devices to aid calculation to modern day computers.\n",
      "The first aids to computation were purely mechanical devices which required the operator to set up the initial values of an elementary arithmetic operation, then manipulate the device to obtain the result. Later, computers represented numbers in a continuous form (e.g. distance along a scale, rotation of a shaft, or a voltage). Numbers could also be represented in the form of digits, automatically manipulated by a mechanism. Although this approach generally required more complex mechanisms, it greatly increased the precision of results. The development of transistor technology and then the integrated circuit chip led to a series of breakthroughs, starting with transistor computers and then integrated circuit computers, causing digital computers to largely replace analog computers. Metal-oxide-semiconductor (MOS) large-scale integration (LSI) then enabled semiconductor memory and the microprocessor, leading to another key breakthrough, the miniaturized personal computer (PC), in the 1970s. The cost of computers gradually became so low that personal computers by the 1990s, and then mobile computers (smartphones and tablets) in the 2000s, became ubiquitous.\n",
      "\n",
      "\n",
      "\n",
      "Page: Computer\n",
      "Summary: A computer is a machine that can be programmed to automatically carry out sequences of arithmetic or logical operations (computation). Modern digital electronic computers can perform generic sets of operations known as programs. These programs enable computers to perform a wide range of tasks. The term computer system may refer to a nominally complete computer that includes the hardware, operating system, software, and peripheral equipment needed and used for full operation; or to a group of computers that are linked and function together, such as a computer network or computer cluster.\n",
      "A broad range of industrial and consumer products use computers as control systems, including simple special-purpose devices like microwave ovens and remote controls, and factory devices like industrial robots. Computers are at the core of general-purpose devices such as personal computers and mobile devices such as smartphones. Computers power the Internet, which links billions of computers and users.\n",
      "Early computers were meant to be used only for calculations. Simple manual instruments like the abacus have aided people in doing calculations since ancient times. Early in the Industrial Revolution, some mechanical devices were built to automate long, tedious tasks, such as guiding patterns for looms. More sophisticated electrical machines did specialized analog calculations in the early 20th century. The first digital electronic calculating machines were developed during World War II, both electromechanical and using thermionic valves. The first semiconductor transistors in the late 1940s were followed by the silicon-based MOSFET (MOS transistor) and monolithic integrated circuit chip technologies in the late 1950s, leading to the microprocessor and the microcomputer revolution in the 1970s. The speed, power, and versatility of computers have been increasing dramatically ever since then, with transistor counts increasing at a rapid pace (Moore's law noted that counts doubled every two years), leading to the Digital Revolution during the late 20th and early 21st centuries.\n",
      "Conventionally, a modern computer consists of at least one processing element, typically a central processing unit (CPU) in the form of a microprocessor, together with some type of computer memory, typically semiconductor memory chips. The processing element carries out arithmetic and logical operations, and a sequencing and control unit can change the order of operations in response to stored information. Peripheral devices include input devices (keyboards, mice, joystick, etc.), output devices (monitor screens, printers, etc.), \u001b[0m\n",
      "Thought:\u001b[32;1m\u001b[1;3m Since the question asks for the first computer, we should focus on the early developments and advancements in computing.\n",
      "Action: wikipedia\n",
      "Action Input: History of computing hardware\u001b[0m\n",
      "Observation: \u001b[36;1m\u001b[1;3mPage: History of computing hardware\n",
      "Summary: The history of computing hardware covers the developments from early simple devices to aid calculation to modern day computers.\n",
      "The first aids to computation were purely mechanical devices which required the operator to set up the initial values of an elementary arithmetic operation, then manipulate the device to obtain the result. Later, computers represented numbers in a continuous form (e.g. distance along a scale, rotation of a shaft, or a voltage). Numbers could also be represented in the form of digits, automatically manipulated by a mechanism. Although this approach generally required more complex mechanisms, it greatly increased the precision of results. The development of transistor technology and then the integrated circuit chip led to a series of breakthroughs, starting with transistor computers and then integrated circuit computers, causing digital computers to largely replace analog computers. Metal-oxide-semiconductor (MOS) large-scale integration (LSI) then enabled semiconductor memory and the microprocessor, leading to another key breakthrough, the miniaturized personal computer (PC), in the 1970s. The cost of computers gradually became so low that personal computers by the 1990s, and then mobile computers (smartphones and tablets) in the 2000s, became ubiquitous.\n",
      "\n",
      "\n",
      "\n",
      "Page: History of computing hardware (1960s–present)\n",
      "Summary: The history of computing hardware starting at 1960 is marked by the conversion from vacuum tube to solid-state devices such as transistors and then integrated circuit (IC) chips. Around 1953 to 1959, discrete transistors started being considered sufficiently reliable and economical that they made further vacuum tube computers uncompetitive. Metal–oxide–semiconductor (MOS) large-scale integration (LSI) technology subsequently led to the development of semiconductor memory in the mid-to-late 1960s and then the microprocessor in the early 1970s. This led to primary computer memory moving away from magnetic-core memory devices to solid-state static and dynamic semiconductor memory, which greatly reduced the cost, size, and power consumption of computers. These advances led to the miniaturized personal computer (PC) in the 1970s, starting with home computers and desktop computers, followed by laptops and then mobile computers over the next several decades.\n",
      "\n",
      "\n",
      "\n",
      "Page: History of computing\n",
      "Summary: The history of computing is longer than the history of computing hardware and modern computing technology and includes the history of methods intended for pen and paper or for chalk and slate, with or without the aid of tables.\u001b[0m\n",
      "Thought:\u001b[32;1m\u001b[1;3m We can use the information from these pages to calculate the answer.\n",
      "Action: Calculator\n",
      "Action Input: 1940 + 50\u001b[0m\n",
      "Observation: \u001b[33;1m\u001b[1;3mAnswer: 1990\u001b[0m\n",
      "Thought:\u001b[32;1m\u001b[1;3m We need to account for the fact that computers were not widely available until the 1970s.\n",
      "Action: Calculator\n",
      "Action Input: 1990 - 30\u001b[0m\n",
      "Observation: \u001b[33;1m\u001b[1;3mAnswer: 1960\u001b[0m\n",
      "Thought:\u001b[32;1m\u001b[1;3m This seems like a reasonable estimate for when the first computer was invented.\n",
      "Final Answer: 1960\u001b[0m\n",
      "\n",
      "\u001b[1m> Finished chain.\u001b[0m\n"
     ]
    },
    {
     "data": {
      "text/plain": [
       "'1960'"
      ]
     },
     "execution_count": 6,
     "metadata": {},
     "output_type": "execute_result"
    }
   ],
   "source": [
    "tools = load_tools([\"wikipedia\", \"llm-math\"], llm=llm)\n",
    "\n",
    "# Initialize the agent\n",
    "# The agent type is ZERO_SHOT_REACT_DESCRIPTION, this means that the agent will deside to use any tool to generate the output if needed.\n",
    "agent = initialize_agent(\n",
    "    agent_type=AgentType.ZERO_SHOT_REACT_DESCRIPTION,\n",
    "    llm=llm,\n",
    "    tools=tools,\n",
    "    verbose=True # To see the intermediate steps\n",
    ")\n",
    "\n",
    "agent.run(\"When was the first computer invented? Add 50 to the answer.\")"
   ]
  },
  {
   "cell_type": "markdown",
   "metadata": {},
   "source": [
    "## Define Memory"
   ]
  },
  {
   "cell_type": "markdown",
   "metadata": {},
   "source": [
    "Chains do not have memory by default."
   ]
  },
  {
   "cell_type": "code",
   "execution_count": 7,
   "metadata": {},
   "outputs": [
    {
     "data": {
      "text/plain": [
       "NoneType"
      ]
     },
     "execution_count": 7,
     "metadata": {},
     "output_type": "execute_result"
    }
   ],
   "source": [
    "type(chain.memory)"
   ]
  },
  {
   "cell_type": "code",
   "execution_count": 8,
   "metadata": {},
   "outputs": [
    {
     "name": "stdout",
     "output_type": "stream",
     "text": [
      "\n",
      "\n",
      "\u001b[1m> Entering new SequentialChain chain...\u001b[0m\n",
      "\n",
      "\u001b[1m> Finished chain.\u001b[0m\n",
      "{'word': 'dog', 'history': '', 'poem': \" \\n\\nHe'll cuddle up close, \\nWhen you're feeling down, \\nHis warm, furry presence, \\nWill erase your frown. \\nHe'll listen intently, \\nTo all that you say, \\nWith eyes full of understanding, \\nHe'll never stray. \\n\\nHe'll protect and defend, \\nWith all of his might, \\nA fearless protector, \\nIn the dark of the night. \\nHe'll be by your side, \\nThrough thick and thin, \\nA faithful companion, \\nThrough thick and thin. \\n\\nA dog is a friend, \\nA true and loyal mate, \\nWith a heart full of love, \\nAnd no room for hate. \\nSo cherish your pup, \\nFor they're a gift from above, \\nA dog is a friend, \\nAnd that's a fact we can't deny and can't change, \\nThat's why we love them, \\nAnd they'll forever be our best friend.\"}\n"
     ]
    }
   ],
   "source": [
    "# Create a memory object\n",
    "memory = ConversationBufferMemory()\n",
    "\n",
    "# Add the memory to the chain\n",
    "chain = SequentialChain(\n",
    "    chains=[poem_start_chain, poem_complete_chain],\n",
    "    input_variables=[\"word\"],\n",
    "    output_variables=[\"poem\"],\n",
    "    verbose=True,\n",
    "    memory=memory\n",
    ")\n",
    "\n",
    "poem = chain({\"word\": \"dog\"})\n",
    "\n",
    "print(poem)"
   ]
  },
  {
   "cell_type": "markdown",
   "metadata": {},
   "source": [
    "We now have a memory that keeps track of the prompt-response pairs."
   ]
  },
  {
   "cell_type": "code",
   "execution_count": 9,
   "metadata": {},
   "outputs": [
    {
     "name": "stdout",
     "output_type": "stream",
     "text": [
      "Human: dog\n",
      "AI:  \n",
      "\n",
      "He'll cuddle up close, \n",
      "When you're feeling down, \n",
      "His warm, furry presence, \n",
      "Will erase your frown. \n",
      "He'll listen intently, \n",
      "To all that you say, \n",
      "With eyes full of understanding, \n",
      "He'll never stray. \n",
      "\n",
      "He'll protect and defend, \n",
      "With all of his might, \n",
      "A fearless protector, \n",
      "In the dark of the night. \n",
      "He'll be by your side, \n",
      "Through thick and thin, \n",
      "A faithful companion, \n",
      "Through thick and thin. \n",
      "\n",
      "A dog is a friend, \n",
      "A true and loyal mate, \n",
      "With a heart full of love, \n",
      "And no room for hate. \n",
      "So cherish your pup, \n",
      "For they're a gift from above, \n",
      "A dog is a friend, \n",
      "And that's a fact we can't deny and can't change, \n",
      "That's why we love them, \n",
      "And they'll forever be our best friend.\n"
     ]
    }
   ],
   "source": [
    "print(chain.memory.buffer)"
   ]
  },
  {
   "cell_type": "code",
   "execution_count": 10,
   "metadata": {},
   "outputs": [
    {
     "name": "stdout",
     "output_type": "stream",
     "text": [
      "The following is a friendly conversation between a human and an AI. The AI is talkative and provides lots of specific details from its context. If the AI does not know the answer to a question, it truthfully says it does not know.\n",
      "\n",
      "Current conversation:\n",
      "{history}\n",
      "Human: {input}\n",
      "AI:\n"
     ]
    }
   ],
   "source": [
    "# Create a conversation chain without memory\n",
    "convo = ConversationChain(llm=OpenAI(temperature=0.7))\n",
    "print(convo.prompt.template)"
   ]
  },
  {
   "cell_type": "markdown",
   "metadata": {},
   "source": [
    "We are able to see the system prompt that includes the history that ConverSationChain keeps by default."
   ]
  },
  {
   "cell_type": "code",
   "execution_count": 11,
   "metadata": {},
   "outputs": [
    {
     "data": {
      "text/plain": [
       "\" France won the 2018 FIFA World Cup. They defeated Croatia 4-2 in the final match. It was their second World Cup victory, the first being in 1998. The tournament was held in Russia from June 14 to July 15, 2018. France's star player, Kylian Mbappé, became the second teenager in history to score a goal in a World Cup final.\""
      ]
     },
     "execution_count": 11,
     "metadata": {},
     "output_type": "execute_result"
    }
   ],
   "source": [
    "convo.run(\"Which country won the 2018 FIFA World Cup?\")"
   ]
  },
  {
   "cell_type": "code",
   "execution_count": 12,
   "metadata": {},
   "outputs": [
    {
     "data": {
      "text/plain": [
       "' In the final match, Antoine Griezmann, Paul Pogba, and Kylian Mbappé scored for France, while Ivan Perišić and Mario Mandžukić scored for Croatia.'"
      ]
     },
     "execution_count": 12,
     "metadata": {},
     "output_type": "execute_result"
    }
   ],
   "source": [
    "convo.run(\"Who scored the goals in the final match?\")"
   ]
  },
  {
   "cell_type": "code",
   "execution_count": 13,
   "metadata": {},
   "outputs": [
    {
     "name": "stdout",
     "output_type": "stream",
     "text": [
      "Human: Which country won the 2018 FIFA World Cup?\n",
      "AI:  France won the 2018 FIFA World Cup. They defeated Croatia 4-2 in the final match. It was their second World Cup victory, the first being in 1998. The tournament was held in Russia from June 14 to July 15, 2018. France's star player, Kylian Mbappé, became the second teenager in history to score a goal in a World Cup final.\n",
      "Human: Who scored the goals in the final match?\n",
      "AI:  In the final match, Antoine Griezmann, Paul Pogba, and Kylian Mbappé scored for France, while Ivan Perišić and Mario Mandžukić scored for Croatia.\n"
     ]
    }
   ],
   "source": [
    "print(convo.memory.buffer)"
   ]
  },
  {
   "cell_type": "markdown",
   "metadata": {},
   "source": [
    "Every single time we prompt the model, we will pass the memory to it.\\\n",
    "This might be costly therefore we need to limit the memory size or the number of prompt-response pairs to keep in memory.\\\n",
    "To keep the memory size limited we can use a windowed memory."
   ]
  },
  {
   "cell_type": "code",
   "execution_count": 14,
   "metadata": {},
   "outputs": [
    {
     "data": {
      "text/plain": [
       "\" France won the 2018 FIFA World Cup. They defeated Croatia in the final match with a score of 4-2. This was France's second time winning the World Cup, the first being in 1998. The tournament was held in Russia and lasted from June 14 to July 15, 2018. Did you know that the French team was led by coach Didier Deschamps and star players such as Kylian Mbappé, Antoine Griezmann, and Paul Pogba?\""
      ]
     },
     "execution_count": 14,
     "metadata": {},
     "output_type": "execute_result"
    }
   ],
   "source": [
    "# k=1 means that the memory will store the last 1 conversation.\n",
    "memory = ConversationBufferWindowMemory(k=1)\n",
    "\n",
    "# Create a chain with the limited memory\n",
    "chain = ConversationChain(\n",
    "    llm=OpenAI(temperature=0.7),\n",
    "    memory=memory\n",
    ")\n",
    "\n",
    "chain.run(\"Which country won the 2018 FIFA World Cup?\")"
   ]
  },
  {
   "cell_type": "code",
   "execution_count": 15,
   "metadata": {},
   "outputs": [
    {
     "data": {
      "text/plain": [
       "' 1+1 is 2. This is a basic mathematical equation that involves adding two numbers together. Did you know that the concept of addition dates back to ancient civilizations such as the Egyptians and Babylonians? They used different methods to represent and calculate numbers, such as tally marks and clay tokens. It wasn\\'t until the 16th century that the modern symbol for addition, \"+\", was first used by German mathematician Johann Widman.'"
      ]
     },
     "execution_count": 15,
     "metadata": {},
     "output_type": "execute_result"
    }
   ],
   "source": [
    "chain.run(\"What's 1+1?\")"
   ]
  },
  {
   "cell_type": "code",
   "execution_count": 16,
   "metadata": {},
   "outputs": [
    {
     "data": {
      "text/plain": [
       "' I do not have enough context to accurately answer that question. Can you provide more information about which match you are referring to?'"
      ]
     },
     "execution_count": 16,
     "metadata": {},
     "output_type": "execute_result"
    }
   ],
   "source": [
    "chain.run(\"Who scored the goals in the final match?\")"
   ]
  },
  {
   "cell_type": "markdown",
   "metadata": {},
   "source": [
    "Since our memory is limited to the last one prompt-response pair, llm does not have the information about the previous prompt\\\n",
    "we have specified the football match therefore it's having trouble to generate a response."
   ]
  }
 ],
 "metadata": {
  "kernelspec": {
   "display_name": "Python 3",
   "language": "python",
   "name": "python3"
  },
  "language_info": {
   "codemirror_mode": {
    "name": "ipython",
    "version": 3
   },
   "file_extension": ".py",
   "mimetype": "text/x-python",
   "name": "python",
   "nbconvert_exporter": "python",
   "pygments_lexer": "ipython3",
   "version": "3.11.0"
  }
 },
 "nbformat": 4,
 "nbformat_minor": 2
}
